{
  "nbformat": 4,
  "nbformat_minor": 0,
  "metadata": {
    "colab": {
      "name": "Day 2 Assighnment.ipynb",
      "provenance": []
    },
    "kernelspec": {
      "name": "python3",
      "display_name": "Python 3"
    }
  },
  "cells": [
    {
      "cell_type": "code",
      "metadata": {
        "id": "bAAFHLXufYgi",
        "colab_type": "code",
        "colab": {}
      },
      "source": [
        "#list and default functions"
      ],
      "execution_count": null,
      "outputs": []
    },
    {
      "cell_type": "code",
      "metadata": {
        "id": "YOAd_M1wftfF",
        "colab_type": "code",
        "colab": {
          "base_uri": "https://localhost:8080/",
          "height": 34
        },
        "outputId": "1d075a78-aee4-4a2b-978e-5b79797ec1d7"
      },
      "source": [
        "\n",
        "#append\n",
        "lst=['Abc',1,235,14,'b']\n",
        "lst.append(6)\n",
        "print(lst)"
      ],
      "execution_count": null,
      "outputs": [
        {
          "output_type": "stream",
          "text": [
            "['Abc', 1, 235, 14, 'b', 6]\n"
          ],
          "name": "stdout"
        }
      ]
    },
    {
      "cell_type": "code",
      "metadata": {
        "id": "8YqFGRI4gKsB",
        "colab_type": "code",
        "colab": {
          "base_uri": "https://localhost:8080/",
          "height": 34
        },
        "outputId": "9d4aa51e-c9c9-43c6-d92f-5e8e697dec20"
      },
      "source": [
        "#length\n",
        "len(lst)"
      ],
      "execution_count": null,
      "outputs": [
        {
          "output_type": "execute_result",
          "data": {
            "text/plain": [
              "6"
            ]
          },
          "metadata": {
            "tags": []
          },
          "execution_count": 4
        }
      ]
    },
    {
      "cell_type": "code",
      "metadata": {
        "id": "Y1wMWeKog0Ih",
        "colab_type": "code",
        "colab": {
          "base_uri": "https://localhost:8080/",
          "height": 34
        },
        "outputId": "19dc2b70-7672-4f55-e8b8-10b7b28392b2"
      },
      "source": [
        "\n",
        "#extend\n",
        "lst.extend([3,4,5])\n",
        "print(lst)"
      ],
      "execution_count": null,
      "outputs": [
        {
          "output_type": "stream",
          "text": [
            "['Abc', 1, 235, 14, 'b', 6, 3, 4, 5]\n"
          ],
          "name": "stdout"
        }
      ]
    },
    {
      "cell_type": "code",
      "metadata": {
        "id": "YSJPL_PDiy80",
        "colab_type": "code",
        "colab": {
          "base_uri": "https://localhost:8080/",
          "height": 51
        },
        "outputId": "98d69845-608c-4947-b392-0be3b05d9abf"
      },
      "source": [
        "print(lst)\n",
        "#insert\n",
        "lst.insert(1,9)\n",
        "print(lst)"
      ],
      "execution_count": null,
      "outputs": [
        {
          "output_type": "stream",
          "text": [
            "['Abc', 9, 1, 235, 14, 'b', 6, 3, 4, 5, 10, 10]\n",
            "['Abc', 9, 9, 1, 235, 14, 'b', 6, 3, 4, 5, 10, 10]\n"
          ],
          "name": "stdout"
        }
      ]
    },
    {
      "cell_type": "code",
      "metadata": {
        "id": "mN-zOhcgjfzo",
        "colab_type": "code",
        "colab": {
          "base_uri": "https://localhost:8080/",
          "height": 34
        },
        "outputId": "92de3956-ba1a-42f5-b77b-a36df2dc8f75"
      },
      "source": [
        "#remove\n",
        "lst.remove(10)\n",
        "print(lst)"
      ],
      "execution_count": null,
      "outputs": [
        {
          "output_type": "stream",
          "text": [
            "['Abc', 9, 9, 1, 235, 14, 'b', 6, 3, 4, 5, 10]\n"
          ],
          "name": "stdout"
        }
      ]
    },
    {
      "cell_type": "code",
      "metadata": {
        "id": "MXftt_nKkNoN",
        "colab_type": "code",
        "colab": {
          "base_uri": "https://localhost:8080/",
          "height": 34
        },
        "outputId": "8ac5e26f-d919-43f0-e3e8-c3affc878237"
      },
      "source": [
        " \n",
        "#pop\n",
        "lst.pop(1)"
      ],
      "execution_count": null,
      "outputs": [
        {
          "output_type": "execute_result",
          "data": {
            "text/plain": [
              "9"
            ]
          },
          "metadata": {
            "tags": []
          },
          "execution_count": 21
        }
      ]
    },
    {
      "cell_type": "code",
      "metadata": {
        "id": "1nzpP4bKkfZH",
        "colab_type": "code",
        "colab": {
          "base_uri": "https://localhost:8080/",
          "height": 51
        },
        "outputId": "4867d3dc-c4ae-408f-e478-8afc16c95326"
      },
      "source": [
        "#index\n",
        "print(lst[0])\n",
        "print(lst[-2])"
      ],
      "execution_count": null,
      "outputs": [
        {
          "output_type": "stream",
          "text": [
            "Abc\n",
            "5\n"
          ],
          "name": "stdout"
        }
      ]
    },
    {
      "cell_type": "code",
      "metadata": {
        "id": "n8F76tZelJgL",
        "colab_type": "code",
        "colab": {
          "base_uri": "https://localhost:8080/",
          "height": 71
        },
        "outputId": "c8d1e86e-5f54-415a-ae91-7f78fc5a3d89"
      },
      "source": [
        "#copy\n",
        "lst1=lst.copy()\n",
        "print(\"values in list 1 is:\",lst1)\n",
        "print(\"values in list:\",lst)"
      ],
      "execution_count": null,
      "outputs": [
        {
          "output_type": "stream",
          "text": [
            "values in list 1 is: ['Abc', 9, 1, 235, 14, 'b', 6, 3, 4, 5, 10]\n",
            "values in list: ['Abc', 9, 1, 235, 14, 'b', 6, 3, 4, 5, 10]\n"
          ],
          "name": "stdout"
        }
      ]
    },
    {
      "cell_type": "code",
      "metadata": {
        "id": "s0z2oeBUugjR",
        "colab_type": "code",
        "colab": {
          "base_uri": "https://localhost:8080/",
          "height": 34
        },
        "outputId": "cd6933d9-fc6c-4378-db45-343169e61635"
      },
      "source": [
        "#dictioners and default function\n",
        "dict={'name':'jack','age':26}\n",
        "print(dict)"
      ],
      "execution_count": null,
      "outputs": [
        {
          "output_type": "stream",
          "text": [
            "{'name': 'jack', 'age': 26}\n"
          ],
          "name": "stdout"
        }
      ]
    },
    {
      "cell_type": "code",
      "metadata": {
        "id": "eI91K1bBvW48",
        "colab_type": "code",
        "colab": {
          "base_uri": "https://localhost:8080/",
          "height": 34
        },
        "outputId": "efb982e0-59a3-45f5-ac18-dde881ca949d"
      },
      "source": [
        " \n",
        "#get\n",
        "print(dict.get('age'))"
      ],
      "execution_count": null,
      "outputs": [
        {
          "output_type": "stream",
          "text": [
            "26\n"
          ],
          "name": "stdout"
        }
      ]
    },
    {
      "cell_type": "code",
      "metadata": {
        "id": "zEpPfKbAwUaz",
        "colab_type": "code",
        "colab": {
          "base_uri": "https://localhost:8080/",
          "height": 34
        },
        "outputId": "758fc84e-fca7-4f90-856f-9e8d5ddaf538"
      },
      "source": [
        "\n",
        "#len\n",
        "print(len(dict))"
      ],
      "execution_count": null,
      "outputs": [
        {
          "output_type": "stream",
          "text": [
            "2\n"
          ],
          "name": "stdout"
        }
      ]
    },
    {
      "cell_type": "code",
      "metadata": {
        "id": "AYdkMN4MxDuK",
        "colab_type": "code",
        "colab": {
          "base_uri": "https://localhost:8080/",
          "height": 34
        },
        "outputId": "e85ec2f2-34b8-4ffe-8eb7-b48bb433561f"
      },
      "source": [
        "\n",
        "#sorted\n",
        "print(sorted(dict))"
      ],
      "execution_count": null,
      "outputs": [
        {
          "output_type": "stream",
          "text": [
            "['age', 'name']\n"
          ],
          "name": "stdout"
        }
      ]
    },
    {
      "cell_type": "markdown",
      "metadata": {
        "id": "xQ618fP3zxrV",
        "colab_type": "text"
      },
      "source": [
        "[link text](https://)"
      ]
    },
    {
      "cell_type": "code",
      "metadata": {
        "id": "dhGV3YH9Zfet",
        "colab_type": "code",
        "colab": {}
      },
      "source": [
        ""
      ],
      "execution_count": null,
      "outputs": []
    }
  ]
}